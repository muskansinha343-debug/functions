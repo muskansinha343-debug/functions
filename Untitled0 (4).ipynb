{
  "nbformat": 4,
  "nbformat_minor": 0,
  "metadata": {
    "colab": {
      "provenance": []
    },
    "kernelspec": {
      "name": "python3",
      "display_name": "Python 3"
    },
    "language_info": {
      "name": "python"
    }
  },
  "cells": [
    {
      "cell_type": "code",
      "execution_count": null,
      "metadata": {
        "id": "EF0pF3sGvo7p"
      },
      "outputs": [],
      "source": [
        "# PYTHON BASIC QUESTION"
      ]
    },
    {
      "cell_type": "markdown",
      "source": [
        "Q1. what is python, and why is it popular?                                        \n",
        "ans.  phython is a high-level language, interpreted programming language\n",
        "known for its reasability and simplicity. its's widely used for various applications, including web development, data science artificial intelligence, and automation                                                                 \n",
        "it's popular for several reasons:                 \n",
        " * easy to learn\n",
        " * versatile\n",
        " * large community and ecosytem\n",
        " * strong libaries\n",
        " * open source\n",
        "\n",
        " Q2. what is an interpreter in python?                                           \n",
        " ans.  An interpreter in python is a program that directly executes code line by line. unlike compiled language where the entire code is translated into machine code before execution, thr python interpreter reads and runs the code on the fly. this makes development faster and more interactive.\n",
        "\n",
        "Q3. what are pre-define keywords in python?                                      \n",
        "ans.  In python, pre-defined keywords are special words that have specific meanings and purpose within the language. you cannot use these words as name for your variables, functions, classes, or any other identifires because they are already reserved by phython for its own syntax and structure.              \n",
        "example: if, else, for, while, def, class, import, true, false, and many more\n",
        "\n",
        "Q4. Can keywords be used as variable names?                                      \n",
        "ans. NO, keywords cannot be used as variable names in python . keywords are reserved words with predefined meaninds in language's syntax, and trying ton used hem as variable names will result in a syntax error.\n",
        "\n",
        "Q5. what is an mutability in python?                                             \n",
        "ans. In python, mutability refers to the ability of an object to be modified after it's created. In other words, mutable obejects can be changed. example: list, dictionaries, and sets    \n",
        "\n",
        "Q6. why are lists mutable, but tuples are immutable?    \n",
        "ans. Lists are mutable because their contents can be changed after they are created. you can add, remove, or modify elements in a list directly.\n",
        "\n",
        "Tuples, on the other hand, are immutable.once a tuple is created, you cannot change its contents(add, remove, or modify elements). If you need to make changes, you have to created a new tuple with the desired modifications.                                \n",
        "\n",
        "This difference in mutability has implication for how you use them. for example, tuples can be used as keys in dictionaries because they are hashable (their value doesn't change), while lists cannot because their value can change\n",
        "\n",
        "Q7. what is the difference between \"==\" and \"is\" operators in python?            \n",
        "ans. In python, the \"==\" and \"is\" operator are used for comparison, but they check different things:       \n",
        "* \"==\"(Equality operator): This operator check if the values of two obejects are equal. It compares the contents of the obejects.\n",
        "* \"is\" ( Identity operator): This operator checks if two variables refers to the same object in memory. It compares the memory addresses of the objects.          \n",
        "Here's an analogy: Imagine you have two identical copies of the same book.                              \n",
        "* Using \"==\" would be like checking if the content of the two books is the same.                       \n",
        "*Using \"is\" would be like checking if both variables are pointing to the exact same physical copy of the book.                  \n",
        "In many cases, if a is b is true, then a==b wil lalso be true. However, the reverse is not always true; two objects in memory(\"is\" is false).\n",
        "\n",
        "Q8. what are logical operator in python?    \n",
        "ans. In Python, logical operators are used to combine conditional statements.    \n",
        "The main logical operators are:  \n",
        "* and: Returns True if both statements are true.   \n",
        "x = 5        \n",
        "print (x > 3 and x < 10) # output: True    \n",
        "* or : Returns True if at least one of the statements is True.  \n",
        " x = 5\n",
        " print (x < 3 or x<10) # output : True   \n",
        " * not : Reversed the result; returns True if the statement is false    \n",
        "x = 5\n",
        "print (not(x > 3 and x <10) # output : True   \n",
        "\n",
        "Q9. what is type casting in python?         \n",
        "ans. In python, type casting refers to the process of converting a variable from one data type to another. This is also known as Type conversion. python has built-in function to perform type casting, such as int( ), float( ), str( ), list( ), tuple( ), dict( ), and set( ).\n",
        "\n",
        "Q10.what is the difference between implicit and explicit type casting?    \n",
        "ans. In python, type casting is the process of converting a variable from one data type to another. There are two main types:    \n",
        "* Implicit Type casting: This is done automatically by python when it needs to perform an operation on operands of different data types. python promotes the \"lower\" data type to the \"higher\" data type to avoid data loss. For example, for example, when you add an integer and a float, the integer is implicity converted to a float.    \n",
        "$ Implicity Type casting  \n",
        "a = 10 # integer\n",
        "b = 5.5 # float\n",
        "c = a+b # a is implicity converted to  \n",
        "print (c)  \n",
        "print (type(c))    \n",
        "* Explicity Type casting : This is done manually by the programmer using built-in function like int(), float(), str(), list(), tuple(),etc. you explicity tell python to convert a variable to a specific data type.  \n",
        "$ Explicity Type casting\n",
        "a = 10.6 # float  \n",
        "b = int(a) # a is explicity convertedto an integer   \n",
        "print(b)  \n",
        "print (type(b))\n",
        "\n",
        "\n",
        "Q11. what is the purpose of conditional statements in python?   \n",
        "ans. Conditional statements in python are used to execute different blocks of code based on whether a condition is true or false. This allow your program to make dicisions and respond to different situations. They are essential for controlling the flow of your program and creating more dynamic and interactive applications.    \n",
        "\n",
        "Q12. How does elif statement work?   \n",
        "ans. The 'elif' statement in python is short for \"else if\". It\"s used in conjunction with the 'if' statement to check multiple conditions sequentially. If the initial'if' condition is false, the program checks the' elif' condition. If the 'elif' condition is true, the code block associated with that elif is executed. You can have multiple elif statements after an if statement. If all 'if' and 'elif' conditions are false, the code inside the optional else block is executed.   \n",
        "\n",
        "Q13. what is the difference between for and while loops?    \n",
        "ans.* \"for\" loops: These are used when you know the number of times you want to iterate or when you want to iterate over a sequence(like a list, tuple, string, or range). They are definite loops because the number of iterations is determined before the loop starts.  $ Example of a for loop  \n",
        "for i in range(5):  \n",
        "print(i)   \n",
        "* 'while' loops: These are used when you want to repeat a block of code as long as a condition is true. The number of iterations is not known beforehand and depends on when the condition becomes false. They are indefinite loops.    \n",
        " Example of a while loop    \n",
        "count = 0\n",
        "while count <5:   \n",
        "print(count)  \n",
        "count += 1   \n",
        "\n",
        "Q14. Describe a scenario where a while loop is more suitable than a for loop.   \n",
        "ans. A 'while' loop is typically more suitable than a for loop when you don't know in advance how many times you need to iterate.   \n",
        "For example, consider a scenario where you need to keep asking the user for input until they provide a valid response (e.g., a positive number). you don't know how many times the user will enter invalid input, so a 'while' loop is a better fit. you would set up a 'while' loop that continues as long as the input is invalid, and the loop wwould terminate only when valid input is received.  \n",
        "\n"
      ],
      "metadata": {
        "id": "zKHg1LWWvwdz"
      }
    },
    {
      "cell_type": "markdown",
      "source": [
        "# PRACTICAL QUESTIONS:-  \n",
        "Q1. write is python to print \"hellow, world\""
      ],
      "metadata": {
        "id": "_euYaYTopRvl"
      }
    },
    {
      "cell_type": "code",
      "source": [
        "print(\"hellow,world\")"
      ],
      "metadata": {
        "colab": {
          "base_uri": "https://localhost:8080/"
        },
        "id": "qw1BGwiwp0hA",
        "outputId": "b49feae8-0ecb-4a36-c9c4-710b93e98d6c"
      },
      "execution_count": null,
      "outputs": [
        {
          "output_type": "stream",
          "name": "stdout",
          "text": [
            "hellow,world\n"
          ]
        }
      ]
    },
    {
      "cell_type": "markdown",
      "source": [
        "Q2. write a python program that display your name and age."
      ],
      "metadata": {
        "id": "EFt0lveiqLMP"
      }
    },
    {
      "cell_type": "code",
      "source": [
        "name = input(\"Enter your name: \")\n",
        "age = input(\"Enter your age: \")\n",
        "print(f\"My name is {name} and age is {age}\")"
      ],
      "metadata": {
        "id": "q8gvni51ql1z",
        "colab": {
          "base_uri": "https://localhost:8080/"
        },
        "outputId": "3e78567d-7996-4354-9bc9-db6e13eb5eff"
      },
      "execution_count": null,
      "outputs": [
        {
          "output_type": "stream",
          "name": "stdout",
          "text": [
            "Enter your name:  muskan\n",
            "Enter your age:   20\n",
            "My name is  muskan and age is   20\n"
          ]
        }
      ]
    },
    {
      "cell_type": "markdown",
      "source": [
        "Q3. write code to print all the pre-defined keywords in python using the keyword library"
      ],
      "metadata": {
        "id": "u5I-32IFoQ-X"
      }
    },
    {
      "cell_type": "code",
      "source": [
        "import keyword\n",
        "print (keyword.kwlist)"
      ],
      "metadata": {
        "colab": {
          "base_uri": "https://localhost:8080/"
        },
        "id": "mREGpw58oltF",
        "outputId": "86388e09-3220-4ce5-a5d2-be6a0eefdf2c"
      },
      "execution_count": null,
      "outputs": [
        {
          "output_type": "stream",
          "name": "stdout",
          "text": [
            "['False', 'None', 'True', 'and', 'as', 'assert', 'async', 'await', 'break', 'class', 'continue', 'def', 'del', 'elif', 'else', 'except', 'finally', 'for', 'from', 'global', 'if', 'import', 'in', 'is', 'lambda', 'nonlocal', 'not', 'or', 'pass', 'raise', 'return', 'try', 'while', 'with', 'yield']\n"
          ]
        }
      ]
    },
    {
      "cell_type": "markdown",
      "source": [
        "Q.4 write a program that check if a given word is a python keyword."
      ],
      "metadata": {
        "id": "6tx_jGMxqvON"
      }
    },
    {
      "cell_type": "code",
      "source": [
        "import keyword\n",
        "word = input(\"enter the word\")\n",
        "list_keywords= keyword.kwlist\n",
        "if word in list_keywords:\n",
        "  print(\"yes, this is a keyword\")\n",
        "else:\n",
        "    print(\"oh no, this is not a keyword\")\n",
        "\n",
        "\n"
      ],
      "metadata": {
        "colab": {
          "base_uri": "https://localhost:8080/"
        },
        "id": "h2DVBmWZrIu6",
        "outputId": "c8da4abf-265d-4e1a-a216-da01c2016041"
      },
      "execution_count": null,
      "outputs": [
        {
          "output_type": "stream",
          "name": "stdout",
          "text": [
            "enter the wordelse\n",
            "yes, this is a keyword\n"
          ]
        }
      ]
    },
    {
      "cell_type": "markdown",
      "source": [
        "Q.5 create a list and tuple in python, and domonstrate how attempting to change an element works differently for each."
      ],
      "metadata": {
        "id": "hSWKICKSteYp"
      }
    },
    {
      "cell_type": "markdown",
      "source": [],
      "metadata": {
        "id": "Ccsx-Tjxs4Dc"
      }
    },
    {
      "cell_type": "code",
      "source": [
        "my_list=[1,2,6,4] #list\n",
        "print(\"orignal list:\", my_list)\n",
        "#changing an element in list\n",
        "my_list[2]=5\n",
        "print(\"list after changing an element:\", my_list)\n",
        "print()\n",
        "my_tuple=(2,4,3,6) #tuple\n",
        "print(\"original tuple:\", my_tuple)\n",
        "#changing an element in list\n",
        "#my_tuple[2] =5 #this line causes a typeError because tuple are immutable\n",
        "#print(\"tuple after changing an element:\",my_tuple)"
      ],
      "metadata": {
        "colab": {
          "base_uri": "https://localhost:8080/"
        },
        "id": "0fdLGsryuOFq",
        "outputId": "66b3066b-94ac-4efe-fbe7-04a52cc8edd5"
      },
      "execution_count": null,
      "outputs": [
        {
          "output_type": "stream",
          "name": "stdout",
          "text": [
            "orignal list: [1, 2, 6, 4]\n",
            "list after changing an element: [1, 2, 5, 4]\n",
            "\n",
            "original tuple: (2, 4, 3, 6)\n"
          ]
        }
      ]
    },
    {
      "cell_type": "markdown",
      "source": [
        "Q.6 write a function to demonstrate the behaviour of mutable and immutable arguments"
      ],
      "metadata": {
        "id": "PhslXR7Nyscg"
      }
    },
    {
      "cell_type": "code",
      "source": [
        "def demonstrate_mutable(my_list):\n",
        "  print(\"Original list inside function:\", my_list)\n",
        "  my_list[2] = 5\n",
        "  print(\"List after changing an element:\", my_list)\n",
        "\n",
        "def demonstrate_immutable(my_tuple):\n",
        "  print(\"Original tuple inside function:\", my_tuple)\n",
        "  # Attempting to change an element in a tuple will raise a TypeError\n",
        "  try:\n",
        "    my_tuple[2] = 5\n",
        "  except TypeError as e:\n",
        "    print(f\"Error: {e} - Tuples are immutable\")\n",
        "\n",
        "\n",
        "# Demonstrate with a mutable object (list)\n",
        "my_list = [1, 2, 6, 4]\n",
        "print(\"Original list outside function:\", my_list)\n",
        "demonstrate_mutable(my_list)\n",
        "print(\"List outside function after calling demonstrate_mutable:\", my_list)\n",
        "print()\n",
        "\n",
        "# Demonstrate with an immutable object (tuple)\n",
        "my_tuple = (2, 4, 3, 6)\n",
        "print(\"Original tuple outside function:\", my_tuple)\n",
        "demonstrate_immutable(my_tuple)\n",
        "print(\"Tuple outside function after calling demonstrate_immutable:\", my_tuple)"
      ],
      "metadata": {
        "colab": {
          "base_uri": "https://localhost:8080/"
        },
        "id": "w4NZ1n95zFRq",
        "outputId": "206e63e5-6f7d-4cfe-9686-20e804d14c3f"
      },
      "execution_count": null,
      "outputs": [
        {
          "output_type": "stream",
          "name": "stdout",
          "text": [
            "Original list outside function: [1, 2, 6, 4]\n",
            "Original list inside function: [1, 2, 6, 4]\n",
            "List after changing an element: [1, 2, 5, 4]\n",
            "List outside function after calling demonstrate_mutable: [1, 2, 5, 4]\n",
            "\n",
            "Original tuple outside function: (2, 4, 3, 6)\n",
            "Original tuple inside function: (2, 4, 3, 6)\n",
            "Error: 'tuple' object does not support item assignment - Tuples are immutable\n",
            "Tuple outside function after calling demonstrate_immutable: (2, 4, 3, 6)\n"
          ]
        }
      ]
    },
    {
      "cell_type": "markdown",
      "source": [
        "Q.7 write a program that performs basic arithmetic operations on two user-input numbers."
      ],
      "metadata": {
        "id": "8SbVq8nFU8xY"
      }
    },
    {
      "cell_type": "code",
      "source": [
        "num1=int(input(\"enter the first number\"))\n",
        "num2=int(input(\"enter the second number\"))\n",
        "print(\"addition of two number:\", num1+num2)\n",
        "print(\"subtraction of two number:\", num1-num2)\n",
        "print(\"multiplication of two number:\", num1*num2)\n",
        "print(\"division of two number:\",num1/num2)\n",
        "print(\"modulous of two number:\", num1%num2)\n",
        "print(\"floor division of two number:\", num1//num2)\n",
        "print(\"exponential of two number:\", num1**num2)"
      ],
      "metadata": {
        "colab": {
          "base_uri": "https://localhost:8080/"
        },
        "id": "KyluZkDHVZo8",
        "outputId": "dc06cd4c-9c97-421c-fc07-54d3fbff6143"
      },
      "execution_count": null,
      "outputs": [
        {
          "output_type": "stream",
          "name": "stdout",
          "text": [
            "enter the first number10\n",
            "enter the second number16\n",
            "addition of two number: 26\n",
            "subtraction of two number: -6\n",
            "multiplication of two number: 160\n",
            "division of two number: 0.625\n",
            "modulous of two number: 10\n",
            "floor division of two number: 0\n",
            "exponential of two number: 10000000000000000\n"
          ]
        }
      ]
    },
    {
      "cell_type": "markdown",
      "source": [
        "Q.8 write a program to demonstrate the use of logical operators."
      ],
      "metadata": {
        "id": "S15-FzHes06g"
      }
    },
    {
      "cell_type": "code",
      "source": [
        "num1= True\n",
        "num2= False\n",
        "print(\"logical operator and:\", num1 and num2)\n",
        "print(\"logical operator or:\", num1 or num2)\n",
        "print(\"logical operator not:\", not num1)"
      ],
      "metadata": {
        "colab": {
          "base_uri": "https://localhost:8080/"
        },
        "id": "oVzojuMOYrql",
        "outputId": "33f03f9a-7b54-4386-963a-1237af2a8e0d"
      },
      "execution_count": null,
      "outputs": [
        {
          "output_type": "stream",
          "name": "stdout",
          "text": [
            "logical operator and: False\n",
            "logical operator or: True\n",
            "logical operator not: False\n"
          ]
        }
      ]
    },
    {
      "cell_type": "markdown",
      "source": [
        "Q.9 write a python program to covert user input from string to integer, float, and boolean types."
      ],
      "metadata": {
        "id": "BtsIjx6VZtcq"
      }
    },
    {
      "cell_type": "code",
      "source": [
        "user_input= input(\"enter the number\")\n",
        "print(\"user_input:\",user_input)\n",
        "if user_input.isdigit():\n",
        "  #string--> integer\n",
        "  print(\"user input in integer:\",int(user_input))\n",
        "  #string--> float\n",
        "  print(\"user input in float:\",float(user_input))\n",
        "  #string--> boolean\n",
        "  print(\"user input in boolean:\",bool(user_input))\n",
        "else:\n",
        "  print(\"invalid input, enter a digit\")"
      ],
      "metadata": {
        "colab": {
          "base_uri": "https://localhost:8080/"
        },
        "id": "5gyrbzA1aFxG",
        "outputId": "f3787f3c-5e37-4adb-cae4-5ef2f8bbd09d"
      },
      "execution_count": null,
      "outputs": [
        {
          "output_type": "stream",
          "name": "stdout",
          "text": [
            "enter the number108\n",
            "user_input: 108\n",
            "user input in integer: 108\n",
            "user input in float: 108.0\n",
            "user input in boolean: True\n"
          ]
        }
      ]
    },
    {
      "cell_type": "markdown",
      "source": [
        "Q.10 write code to demonstrate type casting with list elements."
      ],
      "metadata": {
        "id": "C-zY7aF3ftpk"
      }
    },
    {
      "cell_type": "code",
      "source": [
        "#lst1 consist of float and integer\n",
        "def implicit(lst1):\n",
        "  total_sum=sum(lst1)\n",
        "  print(total_sum)\n",
        "def explicit(lst2):\n",
        "  num=(int(i) for i in lst2)\n",
        "  total_sum2=sum(num)\n",
        "  print(total_sum2)\n",
        "#lst2 cosist of string and integer\n",
        "lst1=[1,2,3,3,4,5,6,0]\n",
        "lst2=['1','2','3','4','5']\n",
        "implicit(lst1)\n",
        "explicit(lst2)"
      ],
      "metadata": {
        "id": "Ip3Q6PxYhQ05",
        "colab": {
          "base_uri": "https://localhost:8080/"
        },
        "outputId": "ad0112c1-65d1-4552-cfe3-19d340595090"
      },
      "execution_count": null,
      "outputs": [
        {
          "output_type": "stream",
          "name": "stdout",
          "text": [
            "24\n",
            "15\n"
          ]
        }
      ]
    },
    {
      "cell_type": "markdown",
      "source": [
        "Q.11 write a program that checks if a number is positive,negative, or zero.\n",
        "\n"
      ],
      "metadata": {
        "id": "u8KW6Jm-lZv4"
      }
    },
    {
      "cell_type": "code",
      "source": [
        "num=int(input(\"enter the number\"))\n",
        "if num==0:\n",
        "  print(\"it is zero\")\n",
        "elif num>0:\n",
        "    print(\"it is a positive number\")\n",
        "else:\n",
        "  print(\"it is a negative number\")"
      ],
      "metadata": {
        "colab": {
          "base_uri": "https://localhost:8080/"
        },
        "id": "7kgLusjllz5V",
        "outputId": "8050f4d8-0b75-4aca-ad58-677c95186445"
      },
      "execution_count": null,
      "outputs": [
        {
          "output_type": "stream",
          "name": "stdout",
          "text": [
            "enter the number-10\n",
            "it is a negative number\n"
          ]
        }
      ]
    },
    {
      "cell_type": "markdown",
      "source": [
        "Q.12 write a loop to print number from 1 to 10."
      ],
      "metadata": {
        "id": "8HZtQmKanG_L"
      }
    },
    {
      "cell_type": "code",
      "source": [
        "for i in range(1,11):\n",
        "  print(i)"
      ],
      "metadata": {
        "colab": {
          "base_uri": "https://localhost:8080/"
        },
        "id": "Y6KzSIZznPiV",
        "outputId": "962c8582-16f8-4c2f-b8b4-e303a0236a46"
      },
      "execution_count": null,
      "outputs": [
        {
          "output_type": "stream",
          "name": "stdout",
          "text": [
            "1\n",
            "2\n",
            "3\n",
            "4\n",
            "5\n",
            "6\n",
            "7\n",
            "8\n",
            "9\n",
            "10\n"
          ]
        }
      ]
    },
    {
      "cell_type": "markdown",
      "source": [
        "Q.13 write a python program to find the sum of all even numbers between 1 and 50."
      ],
      "metadata": {
        "id": "HjnXg5ienbPR"
      }
    },
    {
      "cell_type": "code",
      "source": [
        "sum=0\n",
        "for i in range(3,31,2):\n",
        "  sum+=i\n",
        "print(sum)"
      ],
      "metadata": {
        "colab": {
          "base_uri": "https://localhost:8080/"
        },
        "id": "8HJ6lpPhnyGy",
        "outputId": "7c1a4fca-9bdb-47d6-edb5-ba460247cf54"
      },
      "execution_count": null,
      "outputs": [
        {
          "output_type": "stream",
          "name": "stdout",
          "text": [
            "224\n"
          ]
        }
      ]
    },
    {
      "cell_type": "markdown",
      "source": [
        "Q.14  write a program to reverse a string using a while loop.\n"
      ],
      "metadata": {
        "id": "xgqWQflEoRzr"
      }
    },
    {
      "cell_type": "code",
      "source": [
        "string=input(\"enter the string\")\n",
        "i=len(string)-1\n",
        "while i>=0:\n",
        "  print(string[i],end=\"\")\n",
        "  i-=1"
      ],
      "metadata": {
        "colab": {
          "base_uri": "https://localhost:8080/"
        },
        "id": "IuPGl5GnohBX",
        "outputId": "b60aa65d-2ec3-4629-9fba-7e709db01d9d"
      },
      "execution_count": null,
      "outputs": [
        {
          "output_type": "stream",
          "name": "stdout",
          "text": [
            "enter the stringHi pw Team\n",
            "maeT wp iH"
          ]
        }
      ]
    },
    {
      "cell_type": "markdown",
      "source": [
        "Q.15 write a python program to calculate the factorial of a number provided by the user using a while loop."
      ],
      "metadata": {
        "id": "POohqIkfpGc6"
      }
    },
    {
      "cell_type": "code",
      "source": [
        "num=int(input(\"enter the number\"))\n",
        "i=2\n",
        "fact=1\n",
        "while i<=num:\n",
        "  fact=fact*i\n",
        "  i+=1\n",
        "print(f\"factorial of {num} is {fact}\")"
      ],
      "metadata": {
        "id": "VUChO7gJqFNg",
        "colab": {
          "base_uri": "https://localhost:8080/"
        },
        "outputId": "e04cb86b-d806-4e47-ceb0-cdef86642d94"
      },
      "execution_count": null,
      "outputs": [
        {
          "output_type": "stream",
          "name": "stdout",
          "text": [
            "enter the number  5\n",
            "factorial of 5 is 120\n"
          ]
        }
      ]
    }
  ]
}